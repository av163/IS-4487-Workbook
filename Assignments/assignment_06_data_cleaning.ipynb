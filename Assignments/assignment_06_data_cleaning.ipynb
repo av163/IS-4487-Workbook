{
  "cells": [
    {
      "cell_type": "markdown",
      "metadata": {
        "id": "avCbnNj5RTDb"
      },
      "source": [
        "# IS 4487 Assignment 6: Data Cleaning with Airbnb Listings\n",
        "\n",
        "In this assignment, you will:\n",
        "- Load a raw Airbnb listings dataset\n",
        "- Identify and resolve missing or inconsistent data\n",
        "- Decide what data to drop, keep, or clean\n",
        "- Save a clean dataset to use in Assignment 7\n",
        "\n",
        "## Why This Matters\n",
        "\n",
        "Data cleaning is one of the most important steps in any analysis — but it's often the least visible. Airbnb hosts, managers, and policy teams rely on clean data to make decisions. This assignment gives you experience cleaning raw data and justifying your choices so others can understand your process.\n",
        "\n",
        "<a href=\"https://colab.research.google.com/github/Stan-Pugsley/is_4487_base/blob/main/Assignments/assignment_06_data_cleaning.ipynb\" target=\"_parent\">\n",
        "  <img src=\"https://colab.research.google.com/assets/colab-badge.svg\" alt=\"Open In Colab\"/>\n",
        "</a>\n",
        "\n"
      ]
    },
    {
      "cell_type": "markdown",
      "metadata": {
        "id": "-YtEOclERnZ8"
      },
      "source": [
        "## Dataset Description\n",
        "\n",
        "The dataset you'll be using is a **detailed Airbnb listing file**, available from [Inside Airbnb](https://insideairbnb.com/get-the-data/).\n",
        "\n",
        "Each row represents one property listing. The columns include:\n",
        "\n",
        "- **Host attributes** (e.g., host ID, host name, host response time)\n",
        "- **Listing details** (e.g., price, room type, minimum nights, availability)\n",
        "- **Location data** (e.g., neighborhood, latitude/longitude)\n",
        "- **Property characteristics** (e.g., number of bedrooms, amenities, accommodates)\n",
        "- **Calendar/booking variables** (e.g., last review date, number of reviews)\n",
        "\n",
        "📌 The schema is consistent across cities, so you can expect similar columns regardless of the location you choose.\n"
      ]
    },
    {
      "cell_type": "markdown",
      "metadata": {
        "id": "Rl-WZK3kRs_9"
      },
      "source": [
        "## 1. Choose a City & Upload Your Dataset\n",
        "\n",
        "📥 Follow these steps:\n",
        "\n",
        "1. Go to: [https://insideairbnb.com/get-the-data/](https://insideairbnb.com/get-the-data/)\n",
        "2. Choose a city you’re interested in.\n",
        "3. Download the file named: **`listings.csv.gz`** under that city.\n",
        "4. In your notebook:\n",
        "   - Open the left sidebar\n",
        "   - Click the folder icon 📁\n",
        "   - Click the upload icon ⬆️ and choose your `listings.csv.gz` file\n",
        "5. Use the file path `/content/listings.csv.gz` when loading your data.\n",
        "6. Import standard libraries (`pandas`, `numpy`, `seaborn`, `matplotlib`)\n"
      ]
    },
    {
      "cell_type": "code",
      "execution_count": 3,
      "metadata": {
        "id": "j1o2VjQNRLI1"
      },
      "outputs": [],
      "source": [
        "# Import necessary libraries 🔧\n",
        "\n",
        "import pandas as pd\n",
        "import numpy as np\n",
        "import seaborn as sns\n",
        "import matplotlib.pyplot as plt\n"
      ]
    },
    {
      "cell_type": "code",
      "execution_count": 4,
      "metadata": {
        "id": "05dzhQHzR0vt"
      },
      "outputs": [],
      "source": [
        "# Load your uploaded file (path \"/content/listings.csv.gz\") 🔧\n",
        "\n",
        "df=pd.read_csv(\"/content/listings.csv.gz\")"
      ]
    },
    {
      "cell_type": "code",
      "source": [
        "df.info()\n",
        "print(\"Describe Details: \")\n",
        "df.describe()\n",
        "print(\"\\nNumber of Duplicate Row:\")\n",
        "df.duplicated().sum()"
      ],
      "metadata": {
        "colab": {
          "base_uri": "https://localhost:8080/"
        },
        "id": "6fnnBqcgJBY7",
        "outputId": "4aaf13c2-84b1-4de7-ef27-40dc7cc78f58"
      },
      "execution_count": 50,
      "outputs": [
        {
          "output_type": "stream",
          "name": "stdout",
          "text": [
            "<class 'pandas.core.frame.DataFrame'>\n",
            "RangeIndex: 4332 entries, 0 to 4331\n",
            "Data columns (total 79 columns):\n",
            " #   Column                                        Non-Null Count  Dtype  \n",
            "---  ------                                        --------------  -----  \n",
            " 0   id                                            4332 non-null   int64  \n",
            " 1   listing_url                                   4332 non-null   object \n",
            " 2   scrape_id                                     4332 non-null   int64  \n",
            " 3   last_scraped                                  4332 non-null   object \n",
            " 4   source                                        4332 non-null   object \n",
            " 5   name                                          4332 non-null   object \n",
            " 6   description                                   4270 non-null   object \n",
            " 7   neighborhood_overview                         2895 non-null   object \n",
            " 8   picture_url                                   4332 non-null   object \n",
            " 9   host_id                                       4332 non-null   int64  \n",
            " 10  host_url                                      4332 non-null   object \n",
            " 11  host_name                                     4331 non-null   object \n",
            " 12  host_since                                    4331 non-null   object \n",
            " 13  host_location                                 3744 non-null   object \n",
            " 14  host_about                                    2900 non-null   object \n",
            " 15  host_response_time                            3672 non-null   object \n",
            " 16  host_response_rate                            3672 non-null   object \n",
            " 17  host_acceptance_rate                          3816 non-null   object \n",
            " 18  host_is_superhost                             4255 non-null   object \n",
            " 19  host_thumbnail_url                            4331 non-null   object \n",
            " 20  host_picture_url                              4331 non-null   object \n",
            " 21  host_neighbourhood                            4122 non-null   object \n",
            " 22  host_listings_count                           4331 non-null   float64\n",
            " 23  host_total_listings_count                     4331 non-null   float64\n",
            " 24  host_verifications                            4331 non-null   object \n",
            " 25  host_has_profile_pic                          4331 non-null   object \n",
            " 26  host_identity_verified                        4331 non-null   object \n",
            " 27  neighbourhood                                 2895 non-null   object \n",
            " 28  neighbourhood_cleansed                        4332 non-null   object \n",
            " 29  neighbourhood_group_cleansed                  0 non-null      float64\n",
            " 30  latitude                                      4332 non-null   float64\n",
            " 31  longitude                                     4332 non-null   float64\n",
            " 32  property_type                                 4332 non-null   object \n",
            " 33  room_type                                     4332 non-null   object \n",
            " 34  accommodates                                  4332 non-null   int64  \n",
            " 35  bathrooms                                     3727 non-null   float64\n",
            " 36  bathrooms_text                                4323 non-null   object \n",
            " 37  bedrooms                                      4204 non-null   float64\n",
            " 38  beds                                          3722 non-null   float64\n",
            " 39  amenities                                     4332 non-null   object \n",
            " 40  price                                         3698 non-null   object \n",
            " 41  minimum_nights                                4332 non-null   int64  \n",
            " 42  maximum_nights                                4332 non-null   int64  \n",
            " 43  minimum_minimum_nights                        4332 non-null   int64  \n",
            " 44  maximum_minimum_nights                        4332 non-null   int64  \n",
            " 45  minimum_maximum_nights                        4332 non-null   int64  \n",
            " 46  maximum_maximum_nights                        4332 non-null   int64  \n",
            " 47  minimum_nights_avg_ntm                        4332 non-null   float64\n",
            " 48  maximum_nights_avg_ntm                        4332 non-null   float64\n",
            " 49  calendar_updated                              0 non-null      float64\n",
            " 50  has_availability                              4262 non-null   object \n",
            " 51  availability_30                               4332 non-null   int64  \n",
            " 52  availability_60                               4332 non-null   int64  \n",
            " 53  availability_90                               4332 non-null   int64  \n",
            " 54  availability_365                              4332 non-null   int64  \n",
            " 55  calendar_last_scraped                         4332 non-null   object \n",
            " 56  number_of_reviews                             4332 non-null   int64  \n",
            " 57  number_of_reviews_ltm                         4332 non-null   int64  \n",
            " 58  number_of_reviews_l30d                        4332 non-null   int64  \n",
            " 59  availability_eoy                              4332 non-null   int64  \n",
            " 60  number_of_reviews_ly                          4332 non-null   int64  \n",
            " 61  estimated_occupancy_l365d                     4332 non-null   int64  \n",
            " 62  estimated_revenue_l365d                       3698 non-null   float64\n",
            " 63  first_review                                  3791 non-null   object \n",
            " 64  last_review                                   3791 non-null   object \n",
            " 65  review_scores_rating                          3791 non-null   float64\n",
            " 66  review_scores_accuracy                        3791 non-null   float64\n",
            " 67  review_scores_cleanliness                     3791 non-null   float64\n",
            " 68  review_scores_checkin                         3791 non-null   float64\n",
            " 69  review_scores_communication                   3791 non-null   float64\n",
            " 70  review_scores_location                        3791 non-null   float64\n",
            " 71  review_scores_value                           3791 non-null   float64\n",
            " 72  license                                       2930 non-null   object \n",
            " 73  instant_bookable                              4332 non-null   object \n",
            " 74  calculated_host_listings_count                4332 non-null   int64  \n",
            " 75  calculated_host_listings_count_entire_homes   4332 non-null   int64  \n",
            " 76  calculated_host_listings_count_private_rooms  4332 non-null   int64  \n",
            " 77  calculated_host_listings_count_shared_rooms   4332 non-null   int64  \n",
            " 78  reviews_per_month                             3791 non-null   float64\n",
            "dtypes: float64(20), int64(24), object(35)\n",
            "memory usage: 2.6+ MB\n",
            "Describe Details: \n",
            "\n",
            "Number of Duplicate Row:\n"
          ]
        },
        {
          "output_type": "execute_result",
          "data": {
            "text/plain": [
              "np.int64(0)"
            ]
          },
          "metadata": {},
          "execution_count": 50
        }
      ]
    },
    {
      "cell_type": "markdown",
      "metadata": {
        "id": "aKeLPILuR6J8"
      },
      "source": [
        "## 2. Explore Missing Values\n",
        "\n",
        "Business framing:  \n",
        "\n",
        "Stakeholders don’t like surprises in the data. Missing values can break dashboards, confuse pricing models, or create blind spots for host managers.\n",
        "\n",
        "Explore how complete your dataset is:\n",
        "\n",
        "- Count missing values in each column\n",
        "- Visualize missingness if helpful (e.g., heatmap, barplot)\n",
        "- Flag columns that might not be usable due to missing data\n",
        "\n",
        "### In your markdown:\n",
        "1. What are the top 3 columns with the most missing values?\n",
        "2. Which ones are likely to create business issues?\n",
        "3. Which could be safely ignored or dropped?\n",
        "\n"
      ]
    },
    {
      "cell_type": "code",
      "execution_count": 42,
      "metadata": {
        "id": "W8HxUf-YR5o5",
        "colab": {
          "base_uri": "https://localhost:8080/"
        },
        "outputId": "19f65e47-be57-4f02-e5c3-eef6cfb93ac5"
      },
      "outputs": [
        {
          "output_type": "stream",
          "name": "stdout",
          "text": [
            " Missing values per column:\n",
            " neighbourhood_group_cleansed                    4332\n",
            "calendar_updated                                4332\n",
            "neighborhood_overview                           1437\n",
            "neighbourhood                                   1437\n",
            "host_about                                      1432\n",
            "                                                ... \n",
            "instant_bookable                                   0\n",
            "calculated_host_listings_count                     0\n",
            "calculated_host_listings_count_entire_homes        0\n",
            "calculated_host_listings_count_private_rooms       0\n",
            "calculated_host_listings_count_shared_rooms        0\n",
            "Length: 79, dtype: int64\n",
            "\n",
            "\n",
            " Top 10 Missing values per column:\n",
            " neighbourhood_group_cleansed    4332\n",
            "calendar_updated                4332\n",
            "neighborhood_overview           1437\n",
            "neighbourhood                   1437\n",
            "host_about                      1432\n",
            "license                         1402\n",
            "host_response_time               660\n",
            "host_response_rate               660\n",
            "price                            634\n",
            "estimated_revenue_l365d          634\n",
            "dtype: int64\n"
          ]
        }
      ],
      "source": [
        "# Add code here 🔧\n",
        "\n",
        "# 1. Top 3 Columns with missing value counts\n",
        "print(\" Missing values per column:\\n\", df.isnull().sum().sort_values(ascending=False))\n",
        "print(\"\\n\")\n",
        "print(\" Top 10 Missing values per column:\\n\", df.isnull().sum().sort_values(ascending=False).head(10))\n",
        "\n"
      ]
    },
    {
      "cell_type": "markdown",
      "metadata": {
        "id": "2R5FRgTbGY9G"
      },
      "source": [
        "### ✍️ Your Response: 🔧\n",
        "1. neighbourhood_group_cleansed, calendar_updated       and neighborhood_overview were the top columns with missing values.\n",
        "\n",
        "\n",
        "2. Price has over 634 values missing, price is needed for all airbnb listings. This could cause an issue with pricing models. Neighbourhood has a high missing values, would be good to have to determine market segmentation. Host_response_time and host_response_rate are also important to airbnb managers to ensure airbnb listings aren't scams.  \n",
        "\n",
        "3. Neighbourhood_cleansed, calendar_updated, host_about, and neighborhood_overview have high counts of missing data. These columns would be good to be removed since no modeling could be utilized from this.\n"
      ]
    },
    {
      "cell_type": "markdown",
      "metadata": {
        "id": "4LCyzSZ8R-MI"
      },
      "source": [
        "## 3. Drop Columns That Aren’t Useful\n",
        "\n",
        "Business framing:  \n",
        "\n",
        "Not every column adds value. Analysts often remove columns that are too empty, irrelevant, or repetitive — especially when preparing data for others.\n",
        "\n",
        "Make a decision:\n",
        "\n",
        "- Choose 2–4 columns to drop from your dataset\n",
        "- Document your reasons for each one\n",
        "- Confirm they're gone with `.head()` or `.info()`\n",
        "\n",
        "### In your markdown:\n",
        "1. Which columns did you drop?\n",
        "2. Why were they not useful from a business perspective?\n",
        "3. What could go wrong if you left them in?\n",
        "\n"
      ]
    },
    {
      "cell_type": "code",
      "execution_count": 56,
      "metadata": {
        "id": "GvQDqSfPSD-3",
        "colab": {
          "base_uri": "https://localhost:8080/",
          "height": 365
        },
        "outputId": "90f987fa-fb84-4a3e-b578-52de8b39071f"
      },
      "outputs": [
        {
          "output_type": "error",
          "ename": "KeyError",
          "evalue": "\"['neighbourhood_group_cleansed', 'calendar_updated', 'host_about', 'neighborhood_overview'] not found in axis\"",
          "traceback": [
            "\u001b[0;31m---------------------------------------------------------------------------\u001b[0m",
            "\u001b[0;31mKeyError\u001b[0m                                  Traceback (most recent call last)",
            "\u001b[0;32m/tmp/ipython-input-2323927705.py\u001b[0m in \u001b[0;36m<cell line: 0>\u001b[0;34m()\u001b[0m\n\u001b[1;32m      1\u001b[0m \u001b[0;31m# Add code here 🔧\u001b[0m\u001b[0;34m\u001b[0m\u001b[0;34m\u001b[0m\u001b[0m\n\u001b[1;32m      2\u001b[0m \u001b[0;34m\u001b[0m\u001b[0m\n\u001b[0;32m----> 3\u001b[0;31m \u001b[0mdf\u001b[0m\u001b[0;34m.\u001b[0m\u001b[0mdrop\u001b[0m\u001b[0;34m(\u001b[0m\u001b[0;34m[\u001b[0m\u001b[0;34m'neighbourhood_group_cleansed'\u001b[0m\u001b[0;34m,\u001b[0m \u001b[0;34m'calendar_updated'\u001b[0m\u001b[0;34m,\u001b[0m \u001b[0;34m'host_about'\u001b[0m\u001b[0;34m,\u001b[0m \u001b[0;34m'neighborhood_overview'\u001b[0m\u001b[0;34m]\u001b[0m\u001b[0;34m,\u001b[0m \u001b[0maxis\u001b[0m\u001b[0;34m=\u001b[0m\u001b[0;36m1\u001b[0m\u001b[0;34m,\u001b[0m \u001b[0minplace\u001b[0m\u001b[0;34m=\u001b[0m\u001b[0;32mTrue\u001b[0m\u001b[0;34m)\u001b[0m\u001b[0;34m\u001b[0m\u001b[0;34m\u001b[0m\u001b[0m\n\u001b[0m\u001b[1;32m      4\u001b[0m \u001b[0mdf\u001b[0m\u001b[0;34m.\u001b[0m\u001b[0mhead\u001b[0m\u001b[0;34m(\u001b[0m\u001b[0;34m)\u001b[0m\u001b[0;34m\u001b[0m\u001b[0;34m\u001b[0m\u001b[0m\n\u001b[1;32m      5\u001b[0m \u001b[0;34m\u001b[0m\u001b[0m\n",
            "\u001b[0;32m/usr/local/lib/python3.12/dist-packages/pandas/core/frame.py\u001b[0m in \u001b[0;36mdrop\u001b[0;34m(self, labels, axis, index, columns, level, inplace, errors)\u001b[0m\n\u001b[1;32m   5579\u001b[0m                 \u001b[0mweight\u001b[0m  \u001b[0;36m1.0\u001b[0m     \u001b[0;36m0.8\u001b[0m\u001b[0;34m\u001b[0m\u001b[0;34m\u001b[0m\u001b[0m\n\u001b[1;32m   5580\u001b[0m         \"\"\"\n\u001b[0;32m-> 5581\u001b[0;31m         return super().drop(\n\u001b[0m\u001b[1;32m   5582\u001b[0m             \u001b[0mlabels\u001b[0m\u001b[0;34m=\u001b[0m\u001b[0mlabels\u001b[0m\u001b[0;34m,\u001b[0m\u001b[0;34m\u001b[0m\u001b[0;34m\u001b[0m\u001b[0m\n\u001b[1;32m   5583\u001b[0m             \u001b[0maxis\u001b[0m\u001b[0;34m=\u001b[0m\u001b[0maxis\u001b[0m\u001b[0;34m,\u001b[0m\u001b[0;34m\u001b[0m\u001b[0;34m\u001b[0m\u001b[0m\n",
            "\u001b[0;32m/usr/local/lib/python3.12/dist-packages/pandas/core/generic.py\u001b[0m in \u001b[0;36mdrop\u001b[0;34m(self, labels, axis, index, columns, level, inplace, errors)\u001b[0m\n\u001b[1;32m   4786\u001b[0m         \u001b[0;32mfor\u001b[0m \u001b[0maxis\u001b[0m\u001b[0;34m,\u001b[0m \u001b[0mlabels\u001b[0m \u001b[0;32min\u001b[0m \u001b[0maxes\u001b[0m\u001b[0;34m.\u001b[0m\u001b[0mitems\u001b[0m\u001b[0;34m(\u001b[0m\u001b[0;34m)\u001b[0m\u001b[0;34m:\u001b[0m\u001b[0;34m\u001b[0m\u001b[0;34m\u001b[0m\u001b[0m\n\u001b[1;32m   4787\u001b[0m             \u001b[0;32mif\u001b[0m \u001b[0mlabels\u001b[0m \u001b[0;32mis\u001b[0m \u001b[0;32mnot\u001b[0m \u001b[0;32mNone\u001b[0m\u001b[0;34m:\u001b[0m\u001b[0;34m\u001b[0m\u001b[0;34m\u001b[0m\u001b[0m\n\u001b[0;32m-> 4788\u001b[0;31m                 \u001b[0mobj\u001b[0m \u001b[0;34m=\u001b[0m \u001b[0mobj\u001b[0m\u001b[0;34m.\u001b[0m\u001b[0m_drop_axis\u001b[0m\u001b[0;34m(\u001b[0m\u001b[0mlabels\u001b[0m\u001b[0;34m,\u001b[0m \u001b[0maxis\u001b[0m\u001b[0;34m,\u001b[0m \u001b[0mlevel\u001b[0m\u001b[0;34m=\u001b[0m\u001b[0mlevel\u001b[0m\u001b[0;34m,\u001b[0m \u001b[0merrors\u001b[0m\u001b[0;34m=\u001b[0m\u001b[0merrors\u001b[0m\u001b[0;34m)\u001b[0m\u001b[0;34m\u001b[0m\u001b[0;34m\u001b[0m\u001b[0m\n\u001b[0m\u001b[1;32m   4789\u001b[0m \u001b[0;34m\u001b[0m\u001b[0m\n\u001b[1;32m   4790\u001b[0m         \u001b[0;32mif\u001b[0m \u001b[0minplace\u001b[0m\u001b[0;34m:\u001b[0m\u001b[0;34m\u001b[0m\u001b[0;34m\u001b[0m\u001b[0m\n",
            "\u001b[0;32m/usr/local/lib/python3.12/dist-packages/pandas/core/generic.py\u001b[0m in \u001b[0;36m_drop_axis\u001b[0;34m(self, labels, axis, level, errors, only_slice)\u001b[0m\n\u001b[1;32m   4828\u001b[0m                 \u001b[0mnew_axis\u001b[0m \u001b[0;34m=\u001b[0m \u001b[0maxis\u001b[0m\u001b[0;34m.\u001b[0m\u001b[0mdrop\u001b[0m\u001b[0;34m(\u001b[0m\u001b[0mlabels\u001b[0m\u001b[0;34m,\u001b[0m \u001b[0mlevel\u001b[0m\u001b[0;34m=\u001b[0m\u001b[0mlevel\u001b[0m\u001b[0;34m,\u001b[0m \u001b[0merrors\u001b[0m\u001b[0;34m=\u001b[0m\u001b[0merrors\u001b[0m\u001b[0;34m)\u001b[0m\u001b[0;34m\u001b[0m\u001b[0;34m\u001b[0m\u001b[0m\n\u001b[1;32m   4829\u001b[0m             \u001b[0;32melse\u001b[0m\u001b[0;34m:\u001b[0m\u001b[0;34m\u001b[0m\u001b[0;34m\u001b[0m\u001b[0m\n\u001b[0;32m-> 4830\u001b[0;31m                 \u001b[0mnew_axis\u001b[0m \u001b[0;34m=\u001b[0m \u001b[0maxis\u001b[0m\u001b[0;34m.\u001b[0m\u001b[0mdrop\u001b[0m\u001b[0;34m(\u001b[0m\u001b[0mlabels\u001b[0m\u001b[0;34m,\u001b[0m \u001b[0merrors\u001b[0m\u001b[0;34m=\u001b[0m\u001b[0merrors\u001b[0m\u001b[0;34m)\u001b[0m\u001b[0;34m\u001b[0m\u001b[0;34m\u001b[0m\u001b[0m\n\u001b[0m\u001b[1;32m   4831\u001b[0m             \u001b[0mindexer\u001b[0m \u001b[0;34m=\u001b[0m \u001b[0maxis\u001b[0m\u001b[0;34m.\u001b[0m\u001b[0mget_indexer\u001b[0m\u001b[0;34m(\u001b[0m\u001b[0mnew_axis\u001b[0m\u001b[0;34m)\u001b[0m\u001b[0;34m\u001b[0m\u001b[0;34m\u001b[0m\u001b[0m\n\u001b[1;32m   4832\u001b[0m \u001b[0;34m\u001b[0m\u001b[0m\n",
            "\u001b[0;32m/usr/local/lib/python3.12/dist-packages/pandas/core/indexes/base.py\u001b[0m in \u001b[0;36mdrop\u001b[0;34m(self, labels, errors)\u001b[0m\n\u001b[1;32m   7068\u001b[0m         \u001b[0;32mif\u001b[0m \u001b[0mmask\u001b[0m\u001b[0;34m.\u001b[0m\u001b[0many\u001b[0m\u001b[0;34m(\u001b[0m\u001b[0;34m)\u001b[0m\u001b[0;34m:\u001b[0m\u001b[0;34m\u001b[0m\u001b[0;34m\u001b[0m\u001b[0m\n\u001b[1;32m   7069\u001b[0m             \u001b[0;32mif\u001b[0m \u001b[0merrors\u001b[0m \u001b[0;34m!=\u001b[0m \u001b[0;34m\"ignore\"\u001b[0m\u001b[0;34m:\u001b[0m\u001b[0;34m\u001b[0m\u001b[0;34m\u001b[0m\u001b[0m\n\u001b[0;32m-> 7070\u001b[0;31m                 \u001b[0;32mraise\u001b[0m \u001b[0mKeyError\u001b[0m\u001b[0;34m(\u001b[0m\u001b[0;34mf\"{labels[mask].tolist()} not found in axis\"\u001b[0m\u001b[0;34m)\u001b[0m\u001b[0;34m\u001b[0m\u001b[0;34m\u001b[0m\u001b[0m\n\u001b[0m\u001b[1;32m   7071\u001b[0m             \u001b[0mindexer\u001b[0m \u001b[0;34m=\u001b[0m \u001b[0mindexer\u001b[0m\u001b[0;34m[\u001b[0m\u001b[0;34m~\u001b[0m\u001b[0mmask\u001b[0m\u001b[0;34m]\u001b[0m\u001b[0;34m\u001b[0m\u001b[0;34m\u001b[0m\u001b[0m\n\u001b[1;32m   7072\u001b[0m         \u001b[0;32mreturn\u001b[0m \u001b[0mself\u001b[0m\u001b[0;34m.\u001b[0m\u001b[0mdelete\u001b[0m\u001b[0;34m(\u001b[0m\u001b[0mindexer\u001b[0m\u001b[0;34m)\u001b[0m\u001b[0;34m\u001b[0m\u001b[0;34m\u001b[0m\u001b[0m\n",
            "\u001b[0;31mKeyError\u001b[0m: \"['neighbourhood_group_cleansed', 'calendar_updated', 'host_about', 'neighborhood_overview'] not found in axis\""
          ]
        }
      ],
      "source": [
        "# Add code here 🔧 removed items already\n",
        "\n",
        "df.drop(['neighbourhood_group_cleansed', 'calendar_updated', 'host_about', 'neighborhood_overview'], axis=1, inplace=True)"
      ]
    },
    {
      "cell_type": "code",
      "source": [
        "df.info()"
      ],
      "metadata": {
        "colab": {
          "base_uri": "https://localhost:8080/"
        },
        "id": "N0dkLxPlaMEw",
        "outputId": "a7a74b47-c5b6-425c-b924-3ab3baa27aed"
      },
      "execution_count": 58,
      "outputs": [
        {
          "output_type": "stream",
          "name": "stdout",
          "text": [
            "<class 'pandas.core.frame.DataFrame'>\n",
            "RangeIndex: 4332 entries, 0 to 4331\n",
            "Data columns (total 75 columns):\n",
            " #   Column                                        Non-Null Count  Dtype  \n",
            "---  ------                                        --------------  -----  \n",
            " 0   id                                            4332 non-null   int64  \n",
            " 1   listing_url                                   4332 non-null   object \n",
            " 2   scrape_id                                     4332 non-null   int64  \n",
            " 3   last_scraped                                  4332 non-null   object \n",
            " 4   source                                        4332 non-null   object \n",
            " 5   name                                          4332 non-null   object \n",
            " 6   description                                   4270 non-null   object \n",
            " 7   picture_url                                   4332 non-null   object \n",
            " 8   host_id                                       4332 non-null   int64  \n",
            " 9   host_url                                      4332 non-null   object \n",
            " 10  host_name                                     4331 non-null   object \n",
            " 11  host_since                                    4331 non-null   object \n",
            " 12  host_location                                 3744 non-null   object \n",
            " 13  host_response_time                            3672 non-null   object \n",
            " 14  host_response_rate                            3672 non-null   object \n",
            " 15  host_acceptance_rate                          3816 non-null   object \n",
            " 16  host_is_superhost                             4255 non-null   object \n",
            " 17  host_thumbnail_url                            4331 non-null   object \n",
            " 18  host_picture_url                              4331 non-null   object \n",
            " 19  host_neighbourhood                            4122 non-null   object \n",
            " 20  host_listings_count                           4331 non-null   float64\n",
            " 21  host_total_listings_count                     4331 non-null   float64\n",
            " 22  host_verifications                            4331 non-null   object \n",
            " 23  host_has_profile_pic                          4331 non-null   object \n",
            " 24  host_identity_verified                        4331 non-null   object \n",
            " 25  neighbourhood                                 2895 non-null   object \n",
            " 26  neighbourhood_cleansed                        4332 non-null   object \n",
            " 27  latitude                                      4332 non-null   float64\n",
            " 28  longitude                                     4332 non-null   float64\n",
            " 29  property_type                                 4332 non-null   object \n",
            " 30  room_type                                     4332 non-null   object \n",
            " 31  accommodates                                  4332 non-null   int64  \n",
            " 32  bathrooms                                     3727 non-null   float64\n",
            " 33  bathrooms_text                                4323 non-null   object \n",
            " 34  bedrooms                                      4204 non-null   float64\n",
            " 35  beds                                          3722 non-null   float64\n",
            " 36  amenities                                     4332 non-null   object \n",
            " 37  price                                         3698 non-null   object \n",
            " 38  minimum_nights                                4332 non-null   int64  \n",
            " 39  maximum_nights                                4332 non-null   int64  \n",
            " 40  minimum_minimum_nights                        4332 non-null   int64  \n",
            " 41  maximum_minimum_nights                        4332 non-null   int64  \n",
            " 42  minimum_maximum_nights                        4332 non-null   int64  \n",
            " 43  maximum_maximum_nights                        4332 non-null   int64  \n",
            " 44  minimum_nights_avg_ntm                        4332 non-null   float64\n",
            " 45  maximum_nights_avg_ntm                        4332 non-null   float64\n",
            " 46  has_availability                              4262 non-null   object \n",
            " 47  availability_30                               4332 non-null   int64  \n",
            " 48  availability_60                               4332 non-null   int64  \n",
            " 49  availability_90                               4332 non-null   int64  \n",
            " 50  availability_365                              4332 non-null   int64  \n",
            " 51  calendar_last_scraped                         4332 non-null   object \n",
            " 52  number_of_reviews                             4332 non-null   int64  \n",
            " 53  number_of_reviews_ltm                         4332 non-null   int64  \n",
            " 54  number_of_reviews_l30d                        4332 non-null   int64  \n",
            " 55  availability_eoy                              4332 non-null   int64  \n",
            " 56  number_of_reviews_ly                          4332 non-null   int64  \n",
            " 57  estimated_occupancy_l365d                     4332 non-null   int64  \n",
            " 58  estimated_revenue_l365d                       3698 non-null   float64\n",
            " 59  first_review                                  3791 non-null   object \n",
            " 60  last_review                                   3791 non-null   object \n",
            " 61  review_scores_rating                          3791 non-null   float64\n",
            " 62  review_scores_accuracy                        3791 non-null   float64\n",
            " 63  review_scores_cleanliness                     3791 non-null   float64\n",
            " 64  review_scores_checkin                         3791 non-null   float64\n",
            " 65  review_scores_communication                   3791 non-null   float64\n",
            " 66  review_scores_location                        3791 non-null   float64\n",
            " 67  review_scores_value                           3791 non-null   float64\n",
            " 68  license                                       2930 non-null   object \n",
            " 69  instant_bookable                              4332 non-null   object \n",
            " 70  calculated_host_listings_count                4332 non-null   int64  \n",
            " 71  calculated_host_listings_count_entire_homes   4332 non-null   int64  \n",
            " 72  calculated_host_listings_count_private_rooms  4332 non-null   int64  \n",
            " 73  calculated_host_listings_count_shared_rooms   4332 non-null   int64  \n",
            " 74  reviews_per_month                             3791 non-null   float64\n",
            "dtypes: float64(18), int64(24), object(33)\n",
            "memory usage: 2.5+ MB\n"
          ]
        }
      ]
    },
    {
      "cell_type": "markdown",
      "metadata": {
        "id": "WWR4HiV9GJVY"
      },
      "source": [
        "### ✍️ Your Response: 🔧\n",
        "1. I dropped 'neighbourhood_group_cleansed', 'calendar_updated', 'host_about', and 'neighborhood_overview'. They all high missing values.\n",
        "\n",
        "2. These columns had high counts of missing data. I didn't find that these columns provided any value to any modeling whether its a predicitve or prescriptive anaysis.  neigbourhood_group_cleansed already had another column that was fairly similar to it and had complete data. Host_about isn't necessarily needed for any modeling (there could be instances were would could pull specific words that a host puts on their about to get a feel for their listing aesthetic)\n",
        "\n",
        "3. I believe they would have just caused confusion to managers. They didn't provide any sort of value for modeling.\n",
        "\n"
      ]
    },
    {
      "cell_type": "markdown",
      "metadata": {
        "id": "0CtWLg_LSHNd"
      },
      "source": [
        "## 4. Fill or Fix Values in Key Columns\n",
        "\n",
        "Business framing:  \n",
        "\n",
        "Let’s say your manager wants to see a map of listings with prices and review scores. If key fields are blank, the map won’t work. But not all missing values should be filled the same way.\n",
        "\n",
        "- Choose 2 columns with missing values\n",
        "- Use a strategy to fill or flag those values\n",
        "  - (e.g., median, “unknown”, forward-fill, or a placeholder)\n",
        "- Explain what you did and why\n",
        "\n",
        "### In your markdown:\n",
        "1. What two columns did you clean?\n",
        "2. What method did you use for each, and why?\n",
        "3. What risks are there in how you filled the data?"
      ]
    },
    {
      "cell_type": "code",
      "execution_count": 74,
      "metadata": {
        "id": "AfoW3qQeSJuB",
        "colab": {
          "base_uri": "https://localhost:8080/",
          "height": 530
        },
        "outputId": "b1fdf3c5-59ae-4cd0-ab63-12c7884cf6ad"
      },
      "outputs": [
        {
          "output_type": "stream",
          "name": "stderr",
          "text": [
            "<>:4: SyntaxWarning: invalid escape sequence '\\$'\n",
            "<>:4: SyntaxWarning: invalid escape sequence '\\$'\n",
            "/tmp/ipython-input-3172441088.py:4: SyntaxWarning: invalid escape sequence '\\$'\n",
            "  df['price'] = df['price'].replace('r[\\$,]', '', regex=True).astype(float)\n"
          ]
        },
        {
          "output_type": "execute_result",
          "data": {
            "text/plain": [
              "0         125.0\n",
              "1         140.0\n",
              "2         383.0\n",
              "3          76.0\n",
              "4          54.0\n",
              "         ...   \n",
              "4327      137.0\n",
              "4328      275.0\n",
              "4329    40000.0\n",
              "4330      179.0\n",
              "4331      165.0\n",
              "Name: price, Length: 4332, dtype: float64"
            ],
            "text/html": [
              "<div>\n",
              "<style scoped>\n",
              "    .dataframe tbody tr th:only-of-type {\n",
              "        vertical-align: middle;\n",
              "    }\n",
              "\n",
              "    .dataframe tbody tr th {\n",
              "        vertical-align: top;\n",
              "    }\n",
              "\n",
              "    .dataframe thead th {\n",
              "        text-align: right;\n",
              "    }\n",
              "</style>\n",
              "<table border=\"1\" class=\"dataframe\">\n",
              "  <thead>\n",
              "    <tr style=\"text-align: right;\">\n",
              "      <th></th>\n",
              "      <th>price</th>\n",
              "    </tr>\n",
              "  </thead>\n",
              "  <tbody>\n",
              "    <tr>\n",
              "      <th>0</th>\n",
              "      <td>125.0</td>\n",
              "    </tr>\n",
              "    <tr>\n",
              "      <th>1</th>\n",
              "      <td>140.0</td>\n",
              "    </tr>\n",
              "    <tr>\n",
              "      <th>2</th>\n",
              "      <td>383.0</td>\n",
              "    </tr>\n",
              "    <tr>\n",
              "      <th>3</th>\n",
              "      <td>76.0</td>\n",
              "    </tr>\n",
              "    <tr>\n",
              "      <th>4</th>\n",
              "      <td>54.0</td>\n",
              "    </tr>\n",
              "    <tr>\n",
              "      <th>...</th>\n",
              "      <td>...</td>\n",
              "    </tr>\n",
              "    <tr>\n",
              "      <th>4327</th>\n",
              "      <td>137.0</td>\n",
              "    </tr>\n",
              "    <tr>\n",
              "      <th>4328</th>\n",
              "      <td>275.0</td>\n",
              "    </tr>\n",
              "    <tr>\n",
              "      <th>4329</th>\n",
              "      <td>40000.0</td>\n",
              "    </tr>\n",
              "    <tr>\n",
              "      <th>4330</th>\n",
              "      <td>179.0</td>\n",
              "    </tr>\n",
              "    <tr>\n",
              "      <th>4331</th>\n",
              "      <td>165.0</td>\n",
              "    </tr>\n",
              "  </tbody>\n",
              "</table>\n",
              "<p>4332 rows × 1 columns</p>\n",
              "</div><br><label><b>dtype:</b> float64</label>"
            ]
          },
          "metadata": {},
          "execution_count": 74
        }
      ],
      "source": [
        "# Your code for converting column data types 🔧\n",
        "#updating missing price values with median price based on neighborhood and bedrooms they have.\n",
        "\n",
        "df['price'] = df['price'].replace('r[\\$,]', '', regex=True).astype(float)\n",
        "df['price'] = df.groupby(['neighbourhood_cleansed', 'bedrooms'])['price'].transform(lambda x: x.fillna(x.median()))\n",
        "df['price'].fillna(df['price'].median())"
      ]
    },
    {
      "cell_type": "code",
      "source": [],
      "metadata": {
        "id": "-6CGfrE_CcKy"
      },
      "execution_count": null,
      "outputs": []
    },
    {
      "cell_type": "markdown",
      "metadata": {
        "id": "u1B2QQbZNoSj"
      },
      "source": [
        "### ✍️ Your Response: 🔧\n",
        "1.\n",
        "\n",
        "2.\n",
        "\n",
        "3.\n"
      ]
    },
    {
      "cell_type": "markdown",
      "metadata": {
        "id": "YmpUrgLVSNcl"
      },
      "source": [
        "## 5. Convert and Clean Data Types\n",
        "\n",
        "Business framing:  \n",
        "\n",
        "Sometimes columns that look like numbers are actually stored as text — which breaks calculations and slows down analysis. Common examples are price columns with dollar signs or availability stored as strings.\n",
        "\n",
        "- Identify one column with the wrong data type\n",
        "- Clean and convert it into a usable format (e.g., from string to number)\n",
        "- Check your work by summarizing or plotting the cleaned column\n",
        "\n",
        "### In your markdown:\n",
        "1. What column did you fix?\n",
        "2. What cleaning steps did you apply?\n",
        "3. How does this help prepare the data for later use?\n"
      ]
    },
    {
      "cell_type": "code",
      "execution_count": 10,
      "metadata": {
        "id": "y637bPKuSNOL"
      },
      "outputs": [],
      "source": [
        "# Clean or adjust your dataset 🔧\n"
      ]
    },
    {
      "cell_type": "markdown",
      "metadata": {
        "id": "2QznnHuPGxdq"
      },
      "source": [
        "### ✍️ Your Response: 🔧\n",
        "1.\n",
        "\n",
        "2.\n",
        "\n",
        "3."
      ]
    },
    {
      "cell_type": "markdown",
      "metadata": {
        "id": "Zvsas_ckG6-u"
      },
      "source": [
        "## 6. Remove Duplicate Records\n",
        "\n",
        "Business framing:  \n",
        "\n",
        "If a listing appears twice, it could inflate revenue estimates or confuse users. Airbnb needs each listing to be unique and accurate.\n",
        "\n",
        "- Check for exact duplicate rows\n",
        "- Also check for duplicate IDs if a unique ID column exists\n",
        "- Remove duplicates if found and explain your reasoning\n",
        "\n",
        "### In your markdown:\n",
        "1. Did you find duplicates?\n",
        "2. How did you decide what to drop or keep?\n",
        "3. Why are duplicates risky for Airbnb teams?\n"
      ]
    },
    {
      "cell_type": "code",
      "execution_count": 11,
      "metadata": {
        "id": "0KyeZUR0G_Tk"
      },
      "outputs": [],
      "source": [
        "# Add code here 🔧"
      ]
    },
    {
      "cell_type": "markdown",
      "metadata": {
        "id": "OuTQ2nMAHBIO"
      },
      "source": [
        "### ✍️ Your Response: 🔧 🔧\n",
        "1.\n",
        "\n",
        "2.\n",
        "\n",
        "3."
      ]
    },
    {
      "cell_type": "markdown",
      "metadata": {
        "id": "6a8Rc945m9PQ"
      },
      "source": [
        "## 7. Export Cleaned Data\n",
        "\n",
        "Before wrapping up, export your cleaned Airbnb dataset to a CSV file. You'll need this file for **Assignment 7**, where you'll perform data transformation techniques.\n",
        "\n",
        "Make sure your data has:\n",
        "- Cleaned and consistent column values\n",
        "- Proper data types for each column\n",
        "- Any unnecessary columns removed\n",
        "\n",
        "This file should be the version of your dataset that you’d feel confident sharing with a teammate or using for deeper analysis.\n",
        "\n",
        "\n",
        "\n",
        "```\n",
        "# Make sure your cleaned DataFrame is named appropriately\n",
        "# For example, if your cleaned dataset is stored in a DataFrame called 'df_cleaned':\n",
        "\n",
        "# Export the cleaned DataFrame to a CSV file\n",
        "df_cleaned.to_csv(\"cleaned_airbnb_data.csv\", index=False)\n",
        "\n",
        "# Explanation:\n",
        "# - \"cleaned_airbnb_data.csv\" is the name of the file that will be saved\n",
        "# - index=False prevents pandas from writing row numbers into the CSV\n",
        "# - The file will be saved to your working directory (in Colab, you'll need to download it manually)\n",
        "\n",
        "```\n",
        "\n",
        "\n",
        "\n"
      ]
    },
    {
      "cell_type": "code",
      "execution_count": 12,
      "metadata": {
        "id": "SYjYwyYonTi9"
      },
      "outputs": [],
      "source": [
        "# export csv here 🔧"
      ]
    },
    {
      "cell_type": "markdown",
      "metadata": {
        "id": "HrhzfHDRSfkr"
      },
      "source": [
        "## 8. Final Reflection\n",
        "\n",
        "You’ve just cleaned a real-world Airbnb dataset — the kind of work that happens every day in analyst and data science roles.\n",
        "\n",
        "Before you move on to data transformation in Assignment 7, take a few moments to reflect on the decisions you made and what you learned.\n",
        "\n",
        "### In your markdown:\n",
        "1. What was the most surprising or challenging part of cleaning this dataset?\n",
        "2. How did you decide which data to drop, fix, or keep?\n",
        "3. What’s one way a business team (e.g., hosts, pricing analysts, platform ops) might benefit from the cleaned version of this data?\n",
        "4. If you had more time, what would you explore or clean further?\n",
        "5. How does this relate to your customized learning outcome you created in canvas?\n",
        "\n",
        "\n",
        "Write your response clearly in full sentences. No more than a few sentences required per response.\n"
      ]
    },
    {
      "cell_type": "markdown",
      "metadata": {
        "id": "oAFnMYRqSd7A"
      },
      "source": [
        "### ✍️ Your Response: 🔧\n",
        "\n",
        "1. __  \n",
        "2. __  \n",
        "3. __  \n",
        "4. __  \n",
        "5. __  \n"
      ]
    },
    {
      "cell_type": "markdown",
      "metadata": {
        "id": "MIzm-EIeS065"
      },
      "source": [
        "## Submission Instructions\n",
        "✅ Checklist:\n",
        "- All code cells run without error\n",
        "- All markdown responses are complete\n",
        "- Submit on Canvas as instructed"
      ]
    },
    {
      "cell_type": "code",
      "execution_count": 13,
      "metadata": {
        "colab": {
          "base_uri": "https://localhost:8080/"
        },
        "id": "aRVMs8TywRs_",
        "outputId": "5950f61a-39cf-4d37-a836-de034112de9b"
      },
      "outputs": [
        {
          "output_type": "stream",
          "name": "stdout",
          "text": [
            "[NbConvertApp] WARNING | pattern 'assignment_06_LastnameFirstname.ipynb' matched no files\n",
            "This application is used to convert notebook files (*.ipynb)\n",
            "        to various other formats.\n",
            "\n",
            "        WARNING: THE COMMANDLINE INTERFACE MAY CHANGE IN FUTURE RELEASES.\n",
            "\n",
            "Options\n",
            "=======\n",
            "The options below are convenience aliases to configurable class-options,\n",
            "as listed in the \"Equivalent to\" description-line of the aliases.\n",
            "To see all configurable class-options for some <cmd>, use:\n",
            "    <cmd> --help-all\n",
            "\n",
            "--debug\n",
            "    set log level to logging.DEBUG (maximize logging output)\n",
            "    Equivalent to: [--Application.log_level=10]\n",
            "--show-config\n",
            "    Show the application's configuration (human-readable format)\n",
            "    Equivalent to: [--Application.show_config=True]\n",
            "--show-config-json\n",
            "    Show the application's configuration (json format)\n",
            "    Equivalent to: [--Application.show_config_json=True]\n",
            "--generate-config\n",
            "    generate default config file\n",
            "    Equivalent to: [--JupyterApp.generate_config=True]\n",
            "-y\n",
            "    Answer yes to any questions instead of prompting.\n",
            "    Equivalent to: [--JupyterApp.answer_yes=True]\n",
            "--execute\n",
            "    Execute the notebook prior to export.\n",
            "    Equivalent to: [--ExecutePreprocessor.enabled=True]\n",
            "--allow-errors\n",
            "    Continue notebook execution even if one of the cells throws an error and include the error message in the cell output (the default behaviour is to abort conversion). This flag is only relevant if '--execute' was specified, too.\n",
            "    Equivalent to: [--ExecutePreprocessor.allow_errors=True]\n",
            "--stdin\n",
            "    read a single notebook file from stdin. Write the resulting notebook with default basename 'notebook.*'\n",
            "    Equivalent to: [--NbConvertApp.from_stdin=True]\n",
            "--stdout\n",
            "    Write notebook output to stdout instead of files.\n",
            "    Equivalent to: [--NbConvertApp.writer_class=StdoutWriter]\n",
            "--inplace\n",
            "    Run nbconvert in place, overwriting the existing notebook (only\n",
            "            relevant when converting to notebook format)\n",
            "    Equivalent to: [--NbConvertApp.use_output_suffix=False --NbConvertApp.export_format=notebook --FilesWriter.build_directory=]\n",
            "--clear-output\n",
            "    Clear output of current file and save in place,\n",
            "            overwriting the existing notebook.\n",
            "    Equivalent to: [--NbConvertApp.use_output_suffix=False --NbConvertApp.export_format=notebook --FilesWriter.build_directory= --ClearOutputPreprocessor.enabled=True]\n",
            "--coalesce-streams\n",
            "    Coalesce consecutive stdout and stderr outputs into one stream (within each cell).\n",
            "    Equivalent to: [--NbConvertApp.use_output_suffix=False --NbConvertApp.export_format=notebook --FilesWriter.build_directory= --CoalesceStreamsPreprocessor.enabled=True]\n",
            "--no-prompt\n",
            "    Exclude input and output prompts from converted document.\n",
            "    Equivalent to: [--TemplateExporter.exclude_input_prompt=True --TemplateExporter.exclude_output_prompt=True]\n",
            "--no-input\n",
            "    Exclude input cells and output prompts from converted document.\n",
            "            This mode is ideal for generating code-free reports.\n",
            "    Equivalent to: [--TemplateExporter.exclude_output_prompt=True --TemplateExporter.exclude_input=True --TemplateExporter.exclude_input_prompt=True]\n",
            "--allow-chromium-download\n",
            "    Whether to allow downloading chromium if no suitable version is found on the system.\n",
            "    Equivalent to: [--WebPDFExporter.allow_chromium_download=True]\n",
            "--disable-chromium-sandbox\n",
            "    Disable chromium security sandbox when converting to PDF..\n",
            "    Equivalent to: [--WebPDFExporter.disable_sandbox=True]\n",
            "--show-input\n",
            "    Shows code input. This flag is only useful for dejavu users.\n",
            "    Equivalent to: [--TemplateExporter.exclude_input=False]\n",
            "--embed-images\n",
            "    Embed the images as base64 dataurls in the output. This flag is only useful for the HTML/WebPDF/Slides exports.\n",
            "    Equivalent to: [--HTMLExporter.embed_images=True]\n",
            "--sanitize-html\n",
            "    Whether the HTML in Markdown cells and cell outputs should be sanitized..\n",
            "    Equivalent to: [--HTMLExporter.sanitize_html=True]\n",
            "--log-level=<Enum>\n",
            "    Set the log level by value or name.\n",
            "    Choices: any of [0, 10, 20, 30, 40, 50, 'DEBUG', 'INFO', 'WARN', 'ERROR', 'CRITICAL']\n",
            "    Default: 30\n",
            "    Equivalent to: [--Application.log_level]\n",
            "--config=<Unicode>\n",
            "    Full path of a config file.\n",
            "    Default: ''\n",
            "    Equivalent to: [--JupyterApp.config_file]\n",
            "--to=<Unicode>\n",
            "    The export format to be used, either one of the built-in formats\n",
            "            ['asciidoc', 'custom', 'html', 'latex', 'markdown', 'notebook', 'pdf', 'python', 'qtpdf', 'qtpng', 'rst', 'script', 'slides', 'webpdf']\n",
            "            or a dotted object name that represents the import path for an\n",
            "            ``Exporter`` class\n",
            "    Default: ''\n",
            "    Equivalent to: [--NbConvertApp.export_format]\n",
            "--template=<Unicode>\n",
            "    Name of the template to use\n",
            "    Default: ''\n",
            "    Equivalent to: [--TemplateExporter.template_name]\n",
            "--template-file=<Unicode>\n",
            "    Name of the template file to use\n",
            "    Default: None\n",
            "    Equivalent to: [--TemplateExporter.template_file]\n",
            "--theme=<Unicode>\n",
            "    Template specific theme(e.g. the name of a JupyterLab CSS theme distributed\n",
            "    as prebuilt extension for the lab template)\n",
            "    Default: 'light'\n",
            "    Equivalent to: [--HTMLExporter.theme]\n",
            "--sanitize_html=<Bool>\n",
            "    Whether the HTML in Markdown cells and cell outputs should be sanitized.This\n",
            "    should be set to True by nbviewer or similar tools.\n",
            "    Default: False\n",
            "    Equivalent to: [--HTMLExporter.sanitize_html]\n",
            "--writer=<DottedObjectName>\n",
            "    Writer class used to write the\n",
            "                                        results of the conversion\n",
            "    Default: 'FilesWriter'\n",
            "    Equivalent to: [--NbConvertApp.writer_class]\n",
            "--post=<DottedOrNone>\n",
            "    PostProcessor class used to write the\n",
            "                                        results of the conversion\n",
            "    Default: ''\n",
            "    Equivalent to: [--NbConvertApp.postprocessor_class]\n",
            "--output=<Unicode>\n",
            "    Overwrite base name use for output files.\n",
            "                Supports pattern replacements '{notebook_name}'.\n",
            "    Default: '{notebook_name}'\n",
            "    Equivalent to: [--NbConvertApp.output_base]\n",
            "--output-dir=<Unicode>\n",
            "    Directory to write output(s) to. Defaults\n",
            "                                  to output to the directory of each notebook. To recover\n",
            "                                  previous default behaviour (outputting to the current\n",
            "                                  working directory) use . as the flag value.\n",
            "    Default: ''\n",
            "    Equivalent to: [--FilesWriter.build_directory]\n",
            "--reveal-prefix=<Unicode>\n",
            "    The URL prefix for reveal.js (version 3.x).\n",
            "            This defaults to the reveal CDN, but can be any url pointing to a copy\n",
            "            of reveal.js.\n",
            "            For speaker notes to work, this must be a relative path to a local\n",
            "            copy of reveal.js: e.g., \"reveal.js\".\n",
            "            If a relative path is given, it must be a subdirectory of the\n",
            "            current directory (from which the server is run).\n",
            "            See the usage documentation\n",
            "            (https://nbconvert.readthedocs.io/en/latest/usage.html#reveal-js-html-slideshow)\n",
            "            for more details.\n",
            "    Default: ''\n",
            "    Equivalent to: [--SlidesExporter.reveal_url_prefix]\n",
            "--nbformat=<Enum>\n",
            "    The nbformat version to write.\n",
            "            Use this to downgrade notebooks.\n",
            "    Choices: any of [1, 2, 3, 4]\n",
            "    Default: 4\n",
            "    Equivalent to: [--NotebookExporter.nbformat_version]\n",
            "\n",
            "Examples\n",
            "--------\n",
            "\n",
            "    The simplest way to use nbconvert is\n",
            "\n",
            "            > jupyter nbconvert mynotebook.ipynb --to html\n",
            "\n",
            "            Options include ['asciidoc', 'custom', 'html', 'latex', 'markdown', 'notebook', 'pdf', 'python', 'qtpdf', 'qtpng', 'rst', 'script', 'slides', 'webpdf'].\n",
            "\n",
            "            > jupyter nbconvert --to latex mynotebook.ipynb\n",
            "\n",
            "            Both HTML and LaTeX support multiple output templates. LaTeX includes\n",
            "            'base', 'article' and 'report'.  HTML includes 'basic', 'lab' and\n",
            "            'classic'. You can specify the flavor of the format used.\n",
            "\n",
            "            > jupyter nbconvert --to html --template lab mynotebook.ipynb\n",
            "\n",
            "            You can also pipe the output to stdout, rather than a file\n",
            "\n",
            "            > jupyter nbconvert mynotebook.ipynb --stdout\n",
            "\n",
            "            PDF is generated via latex\n",
            "\n",
            "            > jupyter nbconvert mynotebook.ipynb --to pdf\n",
            "\n",
            "            You can get (and serve) a Reveal.js-powered slideshow\n",
            "\n",
            "            > jupyter nbconvert myslides.ipynb --to slides --post serve\n",
            "\n",
            "            Multiple notebooks can be given at the command line in a couple of\n",
            "            different ways:\n",
            "\n",
            "            > jupyter nbconvert notebook*.ipynb\n",
            "            > jupyter nbconvert notebook1.ipynb notebook2.ipynb\n",
            "\n",
            "            or you can specify the notebooks list in a config file, containing::\n",
            "\n",
            "                c.NbConvertApp.notebooks = [\"my_notebook.ipynb\"]\n",
            "\n",
            "            > jupyter nbconvert --config mycfg.py\n",
            "\n",
            "To see all available configurables, use `--help-all`.\n",
            "\n"
          ]
        }
      ],
      "source": [
        "!jupyter nbconvert --to html \"assignment_06_LastnameFirstname.ipynb\""
      ]
    }
  ],
  "metadata": {
    "colab": {
      "provenance": []
    },
    "kernelspec": {
      "display_name": "Python 3",
      "name": "python3"
    },
    "language_info": {
      "name": "python"
    }
  },
  "nbformat": 4,
  "nbformat_minor": 0
}